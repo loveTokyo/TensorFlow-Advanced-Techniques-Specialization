{
  "cells": [
    {
      "cell_type": "markdown",
      "metadata": {
        "id": "view-in-github",
        "colab_type": "text"
      },
      "source": [
        "<a href=\"https://colab.research.google.com/github/loveTokyo/TensorFlow-Advanced-Techniques-Specialization/blob/main/C1_W1_Lab_2_multi_output.ipynb\" target=\"_parent\"><img src=\"https://colab.research.google.com/assets/colab-badge.svg\" alt=\"Open In Colab\"/></a>"
      ]
    },
    {
      "cell_type": "markdown",
      "metadata": {
        "id": "LoxPG1gXI_rj"
      },
      "source": [
        "# Ungraded Lab: Build a Multi-output Model\n",
        "\n",
        "In this lab, we'll show how you can build models with more than one output. The dataset we will be working on is available from the [UCI Machine Learning Repository](https://archive.ics.uci.edu/ml/datasets/Energy+efficiency). It is an Energy Efficiency dataset which uses the bulding features (e.g. wall area, roof area) as inputs and has two outputs: Cooling Load and Heating Load. Let's see how we can build a model to train on this data."
      ]
    },
    {
      "cell_type": "code",
      "metadata": {
        "id": "0p84I7yFHRT2"
      },
      "source": [
        "## Imports"
      ],
      "execution_count": null,
      "outputs": []
    },
    {
      "cell_type": "code",
      "execution_count": 1,
      "metadata": {
        "id": "IirurwVxI_rn"
      },
      "outputs": [],
      "source": [
        "try:\n",
        "  # %tensorflow_version only exists in Colab.\n",
        "  %tensorflow_version 2.x\n",
        "except Exception:\n",
        "  pass\n",
        "\n",
        "import tensorflow as tf\n",
        "import numpy as np\n",
        "import matplotlib.pyplot as plt\n",
        "import pandas as pd\n",
        "from tensorflow.keras.models import Model\n",
        "from tensorflow.keras.layers import Dense, Input\n",
        "from sklearn.model_selection import train_test_split"
      ]
    },
    {
      "cell_type": "markdown",
      "metadata": {
        "id": "33KRbU_HI_rn"
      },
      "source": [
        "## Utilities\n",
        "\n",
        "We define a few utilities for data conversion and visualization to make our code more neat."
      ]
    },
    {
      "cell_type": "code",
      "execution_count": 2,
      "metadata": {
        "id": "04Y-C9RYUTes"
      },
      "outputs": [],
      "source": [
        "def format_output(data):\n",
        "    y1 = data.pop('Y1')\n",
        "    y1 = np.array(y1)\n",
        "    y2 = data.pop('Y2')\n",
        "    y2 = np.array(y2)\n",
        "    return y1, y2\n",
        "\n",
        "\n",
        "def norm(x):\n",
        "    return (x - train_stats['mean']) / train_stats['std']\n",
        "\n",
        "\n",
        "def plot_diff(y_true, y_pred, title=''):\n",
        "    plt.scatter(y_true, y_pred)\n",
        "    plt.title(title)\n",
        "    plt.xlabel('True Values')\n",
        "    plt.ylabel('Predictions')\n",
        "    plt.axis('equal')\n",
        "    plt.axis('square')\n",
        "    plt.xlim(plt.xlim())\n",
        "    plt.ylim(plt.ylim())\n",
        "    plt.plot([-100, 100], [-100, 100])\n",
        "    plt.show()\n",
        "\n",
        "\n",
        "def plot_metrics(metric_name, title, ylim=5):\n",
        "    plt.title(title)\n",
        "    plt.ylim(0, ylim)\n",
        "    plt.plot(history.history[metric_name], color='blue', label=metric_name)\n",
        "    plt.plot(history.history['val_' + metric_name], color='green', label='val_' + metric_name)\n",
        "    plt.show()"
      ]
    },
    {
      "cell_type": "markdown",
      "metadata": {
        "id": "LG6yKZ9XI_ro"
      },
      "source": [
        "## Prepare the Data\n",
        "\n",
        "We download the dataset and format it for training."
      ]
    },
    {
      "cell_type": "code",
      "execution_count": 4,
      "metadata": {
        "id": "vDUG86adI_rp"
      },
      "outputs": [],
      "source": [
        "# Specify data URI\n",
        "# URI = './data/ENB2012_data.xlsx'\n",
        "URI = 'https://archive.ics.uci.edu/ml/machine-learning-databases/00242/ENB2012_data.xlsx'\n",
        "\n",
        "# Use pandas excel reader\n",
        "df = pd.read_excel(URI)\n",
        "df = df.sample(frac=1).reset_index(drop=True)\n",
        "\n",
        "# Split the data into train and test with 80 train / 20 test\n",
        "train, test = train_test_split(df, test_size=0.2)\n",
        "train_stats = train.describe()\n",
        "\n",
        "# Get Y1 and Y2 as the 2 outputs and format them as np arrays\n",
        "train_stats.pop('Y1')\n",
        "train_stats.pop('Y2')\n",
        "train_stats = train_stats.transpose()\n",
        "train_Y = format_output(train)\n",
        "test_Y = format_output(test)\n",
        "\n",
        "# Normalize the training and test data\n",
        "norm_train_X = norm(train)\n",
        "norm_test_X = norm(test)"
      ]
    },
    {
      "cell_type": "markdown",
      "metadata": {
        "id": "A0uNtBWTI_rp"
      },
      "source": [
        "## Build the Model\n",
        "\n",
        "Here is how we'll build the model using the functional syntax. Notice that we can specify a list of outputs (i.e. `[y1_output, y2_output]`) when we instantiate the `Model()` class."
      ]
    },
    {
      "cell_type": "code",
      "execution_count": 5,
      "metadata": {
        "colab": {
          "base_uri": "https://localhost:8080/"
        },
        "id": "y8vIcdkPI_rq",
        "outputId": "a7389e20-d32f-4d10-852c-24b2de6f7a50"
      },
      "outputs": [
        {
          "output_type": "stream",
          "name": "stdout",
          "text": [
            "Model: \"model\"\n",
            "__________________________________________________________________________________________________\n",
            " Layer (type)                   Output Shape         Param #     Connected to                     \n",
            "==================================================================================================\n",
            " input_1 (InputLayer)           [(None, 8)]          0           []                               \n",
            "                                                                                                  \n",
            " dense (Dense)                  (None, 128)          1152        ['input_1[0][0]']                \n",
            "                                                                                                  \n",
            " dense_1 (Dense)                (None, 128)          16512       ['dense[0][0]']                  \n",
            "                                                                                                  \n",
            " dense_2 (Dense)                (None, 64)           8256        ['dense_1[0][0]']                \n",
            "                                                                                                  \n",
            " y1_output (Dense)              (None, 1)            129         ['dense_1[0][0]']                \n",
            "                                                                                                  \n",
            " y2_output (Dense)              (None, 1)            65          ['dense_2[0][0]']                \n",
            "                                                                                                  \n",
            "==================================================================================================\n",
            "Total params: 26,114\n",
            "Trainable params: 26,114\n",
            "Non-trainable params: 0\n",
            "__________________________________________________________________________________________________\n",
            "None\n"
          ]
        }
      ],
      "source": [
        "# Define model layers.\n",
        "input_layer = Input(shape=(len(train .columns),))\n",
        "first_dense = Dense(units='128', activation='relu')(input_layer)\n",
        "second_dense = Dense(units='128', activation='relu')(first_dense)\n",
        "\n",
        "# Y1 output will be fed directly from the second dense\n",
        "y1_output = Dense(units='1', name='y1_output')(second_dense)\n",
        "third_dense = Dense(units='64', activation='relu')(second_dense)\n",
        "\n",
        "# Y2 output will come via the third dense\n",
        "y2_output = Dense(units='1', name='y2_output')(third_dense)\n",
        "\n",
        "# Define the model with the input layer and a list of output layers\n",
        "model = Model(inputs=input_layer, outputs=[y1_output, y2_output])\n",
        "\n",
        "print(model.summary())"
      ]
    },
    {
      "cell_type": "markdown",
      "metadata": {
        "id": "y-gxZF8PI_rr"
      },
      "source": [
        "## Configure parameters\n",
        "\n",
        "We specify the optimizer as well as the loss and metrics for each output."
      ]
    },
    {
      "cell_type": "code",
      "execution_count": 6,
      "metadata": {
        "colab": {
          "base_uri": "https://localhost:8080/"
        },
        "id": "Jcv9N76UI_rr",
        "outputId": "340378f8-461a-4f06-fca3-e945429b5818"
      },
      "outputs": [
        {
          "output_type": "stream",
          "name": "stderr",
          "text": [
            "/usr/local/lib/python3.7/dist-packages/keras/optimizer_v2/gradient_descent.py:102: UserWarning: The `lr` argument is deprecated, use `learning_rate` instead.\n",
            "  super(SGD, self).__init__(name, **kwargs)\n"
          ]
        }
      ],
      "source": [
        "# Specify the optimizer, and compile the model with loss functions for both outputs\n",
        "optimizer = tf.keras.optimizers.SGD(lr=0.001)\n",
        "model.compile(optimizer=optimizer,\n",
        "              loss={'y1_output': 'mse', 'y2_output': 'mse'},\n",
        "              metrics={'y1_output': tf.keras.metrics.RootMeanSquaredError(),\n",
        "                       'y2_output': tf.keras.metrics.RootMeanSquaredError()})"
      ]
    },
    {
      "cell_type": "markdown",
      "metadata": {
        "id": "RaZBwuWyI_rr"
      },
      "source": [
        "## Train the Model"
      ]
    },
    {
      "cell_type": "code",
      "execution_count": null,
      "metadata": {
        "id": "CRqGn5GHI_rs"
      },
      "outputs": [],
      "source": [
        "# Train the model for 500 epochs\n",
        "history = model.fit(norm_train_X, train_Y,\n",
        "                    epochs=500, batch_size=10, validation_data=(norm_test_X, test_Y))"
      ]
    },
    {
      "cell_type": "markdown",
      "metadata": {
        "id": "jlk8YD3yI_rs"
      },
      "source": [
        "## Evaluate the Model and Plot Metrics"
      ]
    },
    {
      "cell_type": "code",
      "execution_count": 8,
      "metadata": {
        "colab": {
          "base_uri": "https://localhost:8080/"
        },
        "id": "k2WvekeRI_rs",
        "outputId": "cc4c7810-3da6-453f-999b-4072657be067"
      },
      "outputs": [
        {
          "output_type": "stream",
          "name": "stdout",
          "text": [
            "5/5 [==============================] - 0s 3ms/step - loss: 0.8017 - y1_output_loss: 0.1447 - y2_output_loss: 0.6569 - y1_output_root_mean_squared_error: 0.3805 - y2_output_root_mean_squared_error: 0.8105\n",
            "Loss = 0.8016782402992249, Y1_loss = 0.1447439193725586, Y1_mse = 0.3804522454738617, Y2_loss = 0.6569342613220215, Y2_mse = 0.8105148077011108\n"
          ]
        }
      ],
      "source": [
        "# Test the model and print loss and mse for both outputs\n",
        "loss, Y1_loss, Y2_loss, Y1_rmse, Y2_rmse = model.evaluate(x=norm_test_X, y=test_Y)\n",
        "print(\"Loss = {}, Y1_loss = {}, Y1_mse = {}, Y2_loss = {}, Y2_mse = {}\".format(loss, Y1_loss, Y1_rmse, Y2_loss, Y2_rmse))"
      ]
    },
    {
      "cell_type": "code",
      "execution_count": 9,
      "metadata": {
        "colab": {
          "base_uri": "https://localhost:8080/",
          "height": 1000
        },
        "id": "tpUWQQy3I_rs",
        "outputId": "1a8d421c-5ab0-4026-a270-9146e29598df"
      },
      "outputs": [
        {
          "output_type": "display_data",
          "data": {
            "text/plain": [
              "<Figure size 432x288 with 1 Axes>"
            ],
            "image/png": "[encoded data removed]"
          },
          "metadata": {
            "needs_background": "light"
          }
        },
        {
          "output_type": "display_data",
          "data": {
            "text/plain": [
              "<Figure size 432x288 with 1 Axes>"
            ],
            "image/png": "[encoded data removed]"
          },
          "metadata": {
            "needs_background": "light"
          }
        },
        {
          "output_type": "display_data",
          "data": {
            "text/plain": [
              "<Figure size 432x288 with 1 Axes>"
            ],
            "image/png": "[encoded data removed]"
          },
          "metadata": {
            "needs_background": "light"
          }
        },
        {
          "output_type": "display_data",
          "data": {
            "text/plain": [
              "<Figure size 432x288 with 1 Axes>"
            ],
            "image/png": "[encoded data removed]"
          },
          "metadata": {
            "needs_background": "light"
          }
        }
      ],
      "source": [
        "# Plot the loss and mse\n",
        "Y_pred = model.predict(norm_test_X)\n",
        "plot_diff(test_Y[0], Y_pred[0], title='Y1')\n",
        "plot_diff(test_Y[1], Y_pred[1], title='Y2')\n",
        "plot_metrics(metric_name='y1_output_root_mean_squared_error', title='Y1 RMSE', ylim=6)\n",
        "plot_metrics(metric_name='y2_output_root_mean_squared_error', title='Y2 RMSE', ylim=7)"
      ]
    }
  ],
  "metadata": {
    "colab": {
      "name": "C1_W1_Lab_2_multi-output.ipynb",
      "provenance": [],
      "include_colab_link": true
    },
    "kernelspec": {
      "display_name": "Python 3",
      "language": "python",
      "name": "python3"
    },
    "language_info": {
      "codemirror_mode": {
        "name": "ipython",
        "version": 3
      },
      "file_extension": ".py",
      "mimetype": "text/x-python",
      "name": "python",
      "nbconvert_exporter": "python",
      "pygments_lexer": "ipython3",
      "version": "3.7.6"
    }
  },
  "nbformat": 4,
  "nbformat_minor": 0
}